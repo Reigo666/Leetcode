{
 "cells": [
  {
   "cell_type": "code",
   "execution_count": 17,
   "id": "dbcc9edf",
   "metadata": {},
   "outputs": [],
   "source": [
    "import numpy as np"
   ]
  },
  {
   "cell_type": "markdown",
   "id": "89cad5d6",
   "metadata": {},
   "source": [
    "##  查看数组属性"
   ]
  },
  {
   "cell_type": "code",
   "execution_count": 31,
   "id": "4b10e05b",
   "metadata": {},
   "outputs": [
    {
     "name": "stdout",
     "output_type": "stream",
     "text": [
      "[[0. 0.]\n",
      " [0. 0.]\n",
      " [0. 0.]]\n",
      "数据类型 <class 'numpy.ndarray'>\n",
      "数组元素数据类型： float64\n",
      "数组元素总数： 6\n",
      "数组形状： (3, 2)\n",
      "数组的维度数目 2\n"
     ]
    }
   ],
   "source": [
    "a1=np.zeros((3,2))\n",
    "print(a1)  \n",
    "print(\"数据类型\",type(a1))           #打印数组数据类型  \n",
    "print(\"数组元素数据类型：\",a1.dtype) #打印数组元素数据类型  \n",
    "print(\"数组元素总数：\",a1.size)      #打印数组尺寸，即数组元素总数  \n",
    "print(\"数组形状：\",a1.shape)         #打印数组形状  \n",
    "print(\"数组的维度数目\",a1.ndim)      #打印数组的维度数目\n",
    "\n",
    "#查看数组a1的属性\n",
    "def check(a1):\n",
    "    print(a1)  \n",
    "    print(\"数据类型\",type(a1))           #打印数组数据类型  \n",
    "    print(\"数组元素数据类型：\",a1.dtype) #打印数组元素数据类型  \n",
    "    print(\"数组元素总数：\",a1.size)      #打印数组尺寸，即数组元素总数  \n",
    "    print(\"数组形状：\",a1.shape)         #打印数组形状  \n",
    "    print(\"数组的维度数目\",a1.ndim)      #打印数组的维度数目"
   ]
  },
  {
   "cell_type": "markdown",
   "id": "c524def1",
   "metadata": {},
   "source": [
    "## 生成数组"
   ]
  },
  {
   "cell_type": "code",
   "execution_count": 32,
   "id": "b7a376cb",
   "metadata": {},
   "outputs": [
    {
     "name": "stdout",
     "output_type": "stream",
     "text": [
      "[[1. 0. 0. 0.]\n",
      " [0. 1. 0. 0.]\n",
      " [0. 0. 1. 0.]\n",
      " [0. 0. 0. 1.]]\n",
      "数据类型 <class 'numpy.ndarray'>\n",
      "数组元素数据类型： float64\n",
      "数组元素总数： 16\n",
      "数组形状： (4, 4)\n",
      "数组的维度数目 2\n"
     ]
    }
   ],
   "source": [
    "a=np.ones(1)\n",
    "b=np.zeros((3,2,4))\n",
    "c = np.array([[0,0],[1,0],[0,1]],dtype=np.complex128)\n",
    "d=np.eye(4)\n",
    "\n",
    "check(d)\n"
   ]
  },
  {
   "cell_type": "markdown",
   "id": "172f03f1",
   "metadata": {},
   "source": [
    "## 暂未归类"
   ]
  },
  {
   "cell_type": "code",
   "execution_count": null,
   "id": "75c18f1c",
   "metadata": {},
   "outputs": [],
   "source": [
    "np.shape()\n",
    "np.size(a,axis=0)\n",
    "\n",
    "np.exp(-inx)\n",
    "np.tanh(0.5 * inx)\n",
    "np.random.\n",
    "np.random.multivariate_normal(means0, [[variance, cov], [cov, variance]], number0)\n",
    "np.random.randint(0, high=N)\n",
    "\n",
    "np.sum()\n",
    "acc=np.mean(correct_prediction)\n",
    "data_test_labels=np.squeeze(data_test_labels)\n",
    "correct_prediction = np.equal(classes,data_test_labels)\n",
    "\n",
    "np.multiply(a,b)\n",
    "a@b\n",
    "\n",
    "np.linspace\n",
    "np.polyval\n",
    "np.linalg.norm(data[i,:] - center[j,:])\n",
    "\n",
    "np.mat(data_trainset_x)\n",
    "\n",
    "arg = np.argmin(distance) # the index of the min of distance\n",
    "argmaxs = np.argmax(gammas, axis=1)\n",
    "max_arr=np.max(data,axis=0)\n",
    "min_arr=np.min(data,axis=0)\n",
    "\n",
    "\n",
    "\n",
    "np.uint8(img_data)\n",
    "\n",
    "data=pd.read_csv(\"Skin_NonSkin.txt\",sep='\\t',header=None)\n",
    "data=shuffle(data)\n",
    "data.iloc[:,[3]]=data.iloc[:,[3]].apply(lambda x:x-1)\n",
    "print(data.iloc[0:10])"
   ]
  },
  {
   "cell_type": "code",
   "execution_count": 27,
   "id": "5b09910d",
   "metadata": {},
   "outputs": [
    {
     "name": "stdout",
     "output_type": "stream",
     "text": [
      "3 2\n",
      "[[2.]\n",
      " [2.]\n",
      " [2.]]\n"
     ]
    }
   ],
   "source": [
    "a=np.ones((3,2))\n",
    "b=np.ones((2,1))\n",
    "m,n=a.shape\n",
    "print(m,n)\n",
    "print(a@b)"
   ]
  }
 ],
 "metadata": {
  "kernelspec": {
   "display_name": "Python 3 (ipykernel)",
   "language": "python",
   "name": "python3"
  },
  "language_info": {
   "codemirror_mode": {
    "name": "ipython",
    "version": 3
   },
   "file_extension": ".py",
   "mimetype": "text/x-python",
   "name": "python",
   "nbconvert_exporter": "python",
   "pygments_lexer": "ipython3",
   "version": "3.8.10"
  }
 },
 "nbformat": 4,
 "nbformat_minor": 5
}
