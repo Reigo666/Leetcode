{
 "cells": [
  {
   "cell_type": "code",
   "execution_count": 2,
   "id": "db187134",
   "metadata": {},
   "outputs": [],
   "source": [
    "import numpy as np"
   ]
  },
  {
   "cell_type": "markdown",
   "id": "aa6bea6a",
   "metadata": {},
   "source": [
    "##  查看阵列属性"
   ]
  },
  {
   "cell_type": "code",
   "execution_count": 5,
   "id": "6c2e7f14",
   "metadata": {},
   "outputs": [],
   "source": [
    "#查看数组a1的属性\n",
    "def check(a1):\n",
    "    print(a1)  \n",
    "    print(\"数据类型\",type(a1))           #打印数组数据类型  \n",
    "    print(\"数组元素数据类型：\",a1.dtype) #打印数组元素数据类型  \n",
    "    print(\"数组元素总数：\",a1.size)      #打印数组尺寸，即数组元素总数  \n",
    "    print(\"数组形状：\",a1.shape)         #打印数组形状  \n",
    "    print(\"数组的维度数目\",a1.ndim)      #打印数组的维度数目"
   ]
  },
  {
   "cell_type": "code",
   "execution_count": 85,
   "id": "a9ee1fcf",
   "metadata": {},
   "outputs": [],
   "source": [
    "m=np.shape(a) #返回a的shape\n",
    "n=np.size(a) #返回a的size\n",
    "n=np.size(a,axis=0)#返回维度为0的 a的size"
   ]
  },
  {
   "cell_type": "markdown",
   "id": "2734c74e",
   "metadata": {},
   "source": [
    "## 生成阵列（numpy.ndarray）"
   ]
  },
  {
   "cell_type": "code",
   "execution_count": 31,
   "id": "8ea7e3cd",
   "metadata": {},
   "outputs": [],
   "source": [
    "a=np.ones(2) #shape(2,)\n",
    "b=np.zeros((3,2,4)) #shape(3,2,4)\n",
    "c=np.array([[0,0],[1,0],[0,1]],dtype=np.complex128) #shape(3,2)\n",
    "d=np.eye(4) #shape(4,4)\n",
    "e=np.arange(0,4) #shape(4,)\n",
    "f=np.arange(0,6).reshape(3,2) #shape(3,2)\n"
   ]
  },
  {
   "cell_type": "markdown",
   "id": "61566a98",
   "metadata": {},
   "source": [
    "## 生成矩阵（numpy.matrix）"
   ]
  },
  {
   "cell_type": "code",
   "execution_count": 14,
   "id": "dc77522f",
   "metadata": {},
   "outputs": [],
   "source": [
    "#只能生成二维\n",
    "a=np.mat([1,2,3]) #shape(1,3)\n",
    "b=np.mat([[1,2,3]]) #shape(1,3)\n",
    "c=np.mat([[1,2,3],[4,5,6]]) #shape(2,3)"
   ]
  },
  {
   "cell_type": "markdown",
   "id": "97a58412",
   "metadata": {},
   "source": [
    "## 阵列矩阵转换（ndarray <=> matrix）"
   ]
  },
  {
   "cell_type": "code",
   "execution_count": 49,
   "id": "9429dc6c",
   "metadata": {},
   "outputs": [],
   "source": [
    "#阵列转换为矩阵\n",
    "a=np.ones((2,2))\n",
    "b=np.mat(a)\n",
    "\n",
    "#矩阵转换为阵列\n",
    "a=np.mat([[1,2,3],[4,5,6]])\n",
    "b=np.array(a)"
   ]
  },
  {
   "cell_type": "markdown",
   "id": "299061e4",
   "metadata": {},
   "source": [
    "## 矩阵乘法"
   ]
  },
  {
   "cell_type": "code",
   "execution_count": 65,
   "id": "ec13bff3",
   "metadata": {},
   "outputs": [],
   "source": [
    "#ndarray\n",
    "a=np.ones((2,2))\n",
    "b=np.arange(0,4).reshape(2,2)\n",
    "\n",
    "#矩阵每个元素相乘\n",
    "c=a*b\n",
    "d=np.multiply(a,b) #c==d\n",
    "\n",
    "#矩阵点乘(矩阵乘法)\n",
    "e=np.dot(a,b)\n",
    "f=a@b \n",
    "g=a.dot(b) #e==f==g\n"
   ]
  },
  {
   "cell_type": "code",
   "execution_count": 66,
   "id": "c740ee3f",
   "metadata": {},
   "outputs": [],
   "source": [
    "#matrix\n",
    "a=np.mat([[1,1],[1,1]])\n",
    "b=np.mat([[0,1],[2,3]])\n",
    "\n",
    "#矩阵每个元素相乘\n",
    "c=np.multiply(a,b) #c!=a*b 与ndarray不同\n",
    "\n",
    "\n",
    "#矩阵点乘(矩阵乘法)\n",
    "d=a*b\n",
    "e=np.dot(a,b)\n",
    "f=a@b \n",
    "g=a.dot(b) #d==e==f==g\n"
   ]
  },
  {
   "cell_type": "markdown",
   "id": "16ce0ffd",
   "metadata": {},
   "source": [
    "## np.random"
   ]
  },
  {
   "cell_type": "code",
   "execution_count": 78,
   "id": "05f68c62",
   "metadata": {},
   "outputs": [
    {
     "name": "stdout",
     "output_type": "stream",
     "text": [
      "[-0.20403972  1.0790322  -0.11728032 -0.06427157 -1.36300841]\n",
      "数据类型 <class 'numpy.ndarray'>\n",
      "数组元素数据类型： float64\n",
      "数组元素总数： 5\n",
      "数组形状： (5,)\n",
      "数组的维度数目 1\n",
      "[[-1.36300841 -0.06427157 -0.06427157 -0.06427157]]\n",
      "数据类型 <class 'numpy.ndarray'>\n",
      "数组元素数据类型： float64\n",
      "数组元素总数： 4\n",
      "数组形状： (1, 4)\n",
      "数组的维度数目 2\n"
     ]
    }
   ],
   "source": [
    "#生成随机数据\n",
    "a=np.random.rand(2,3) #shape(2,3) [0,1)均匀分布 \n",
    "b=np.random.randn(3,2,5) #shape(2,3) 标准正态分布\n",
    "c=np.random.randint(2,4,(2,3)) #shape(2,3) [low,high)\n",
    "\n",
    "#shuffle\n",
    "np.random.shuffle(b) #根据数组a的第1轴（也就是最外层的维度）进行随机排列，改变数组a\n",
    "d=np.random.permutation(b)#根据数组a的第1轴进行随机排列，不改变数组a，返回一个新的数组\n",
    "\n",
    "#choice\n",
    "#从一维数组a中以概率p抽取元素，形成size形状新数组replace表示是否可以重用元素，默认为False\n",
    "e=np.random.choice(b[0][0], size=(1,4), replace=True, p=[0,0,0,0.8,0.2])\n",
    "\n"
   ]
  },
  {
   "cell_type": "markdown",
   "id": "01335ea1",
   "metadata": {},
   "source": [
    "## 暂未归类"
   ]
  },
  {
   "cell_type": "code",
   "execution_count": null,
   "id": "4e79b030",
   "metadata": {},
   "outputs": [],
   "source": []
  },
  {
   "cell_type": "code",
   "execution_count": null,
   "id": "9ad78baf",
   "metadata": {},
   "outputs": [],
   "source": [
    "\n",
    "\n",
    "np.exp(-inx)\n",
    "np.log10(255.0 / rmse)\n",
    "np.tanh(0.5 * inx)\n",
    "np.random.\n",
    "np.random.multivariate_normal(means0, [[variance, cov], [cov, variance]], number0)\n",
    "np.random.shuffle(data)\n",
    "np.random.randint(0, high=N)\n",
    "mus[i]=np.random.rand(K,aft_dim)\n",
    "\n",
    "\n",
    "np.sum()\n",
    "np.sqrt()\n",
    "acc=np.mean(correct_prediction)\n",
    "\n",
    "\n",
    "data_test_labels=np.squeeze(data_test_labels)\n",
    "correct_prediction = np.equal(classes,data_test_labels)\n",
    "\n",
    "\n",
    "\n",
    "all_data=np.c_[data_scale,label]\n",
    "data_classj=all_data[np.where(all_data[:,-1]==0)]\n",
    "#拿到类别为j的数据\n",
    "data_classj=all_data[np.where(all_data[:,-1]==j)]\n",
    "\n",
    "\n",
    "min_d = np.argsort(eigenvalues)#输出特征值从小到大的序号排序\n",
    "feature_vectors = np.delete(feature_vectors, min_d[:columns - reduced_dimension], axis=1)#删除特征值最小所对应特征向量的几列\n",
    "np.delete(data, -1, axis=1)\n",
    "\n",
    "\n",
    "np.linspace\n",
    "np.polyval\n",
    "np.linalg.norm(data[i,:] - center[j,:])\n",
    "\n",
    "\n",
    "\n",
    "arg = np.argmin(distance) # the index of the min of distance\n",
    "argmaxs = np.argmax(gammas, axis=1)\n",
    "max_arr=np.max(data,axis=0)\n",
    "min_arr=np.min(data,axis=0)\n",
    "\n",
    "\n",
    "\n",
    "np.uint8(img_data)\n",
    "\n",
    "data=pd.read_csv(\"Skin_NonSkin.txt\",sep='\\t',header=None)\n",
    "data=shuffle(data)\n",
    "data.iloc[:,[3]]=data.iloc[:,[3]].apply(lambda x:x-1)\n",
    "print(data.iloc[0:10])"
   ]
  },
  {
   "cell_type": "code",
   "execution_count": null,
   "id": "27b949b3",
   "metadata": {},
   "outputs": [],
   "source": []
  },
  {
   "cell_type": "code",
   "execution_count": 27,
   "id": "a6e51d8d",
   "metadata": {},
   "outputs": [
    {
     "name": "stdout",
     "output_type": "stream",
     "text": [
      "3 2\n",
      "[[2.]\n",
      " [2.]\n",
      " [2.]]\n"
     ]
    }
   ],
   "source": [
    "a=np.ones((3,2))\n",
    "b=np.ones((2,1))\n",
    "m,n=a.shape\n",
    "print(m,n)\n",
    "print(a@b)"
   ]
  }
 ],
 "metadata": {
  "kernelspec": {
   "display_name": "Python 3 (ipykernel)",
   "language": "python",
   "name": "python3"
  },
  "language_info": {
   "codemirror_mode": {
    "name": "ipython",
    "version": 3
   },
   "file_extension": ".py",
   "mimetype": "text/x-python",
   "name": "python",
   "nbconvert_exporter": "python",
   "pygments_lexer": "ipython3",
   "version": "3.8.10"
  }
 },
 "nbformat": 4,
 "nbformat_minor": 5
}
