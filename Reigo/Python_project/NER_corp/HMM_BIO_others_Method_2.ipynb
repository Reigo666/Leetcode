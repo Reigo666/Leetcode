{
 "cells": [
  {
   "cell_type": "code",
   "execution_count": 1,
   "id": "2882b27c",
   "metadata": {},
   "outputs": [],
   "source": [
    "import numpy as np\n",
    "# 第三方进度条库\n",
    "from tqdm import tqdm"
   ]
  },
  {
   "cell_type": "code",
   "execution_count": 2,
   "id": "b271ea64",
   "metadata": {},
   "outputs": [],
   "source": [
    "class HMM_BIO_method2:\n",
    "    def __init__(self):\n",
    "        # 标记-id\n",
    "        self.tag2id = {'B-ORG': 0,\n",
    "                       'I-ORG': 1,\n",
    "                       'O': 2}\n",
    "        # id-标记\n",
    "        self.id2tag = dict(zip(self.tag2id.values(), self.tag2id.keys()))\n",
    "        # 表示所有可能的标签个数N\n",
    "        self.num_tag = len(self.tag2id)\n",
    "        # 所有字符的Unicode编码个数 x16\n",
    "        self.num_char = 65535\n",
    "        # 转移概率矩阵,N*N\n",
    "        self.A = np.zeros((self.num_tag, self.num_tag))\n",
    "        # 发射概率矩阵,N*M\n",
    "        self.B = np.zeros((self.num_tag, self.num_char))\n",
    "        # 初始隐状态概率,N\n",
    "        self.pi = np.zeros(self.num_tag)\n",
    "        # 无穷小量\n",
    "        self.epsilon = 1e-100\n",
    "\n",
    "    def train(self, corpus_path , savedir=None):\n",
    "        '''\n",
    "        函数功能：通过数据训练得到A、B、pi\n",
    "        :param corpus_path: 数据集文件路径\n",
    "        :return: 无返回值\n",
    "        '''\n",
    "        with open(corpus_path, mode='r', encoding='utf-8') as f:\n",
    "            # 读取训练数据\n",
    "            lines = f.readlines()\n",
    "        print('开始训练数据：')\n",
    "        for i in tqdm(range(len(lines))):\n",
    "            if len(lines[i]) == 1:\n",
    "                # 空行，即只有一个换行符，跳过\n",
    "                continue\n",
    "            else:\n",
    "                # split()的时候，多个空格当成一个空格\n",
    "                cut_char, cut_tag = lines[i][0],lines[i][2:-1]\n",
    "                # ord是python内置函数\n",
    "                # ord(c)返回字符c对应的十进制整数\n",
    "                self.B[self.tag2id[cut_tag]][ord(cut_char)] += 1\n",
    "                if len(lines[i - 1]) == 1:\n",
    "                    # 如果上一个数据是空格\n",
    "                    # 即当前为一句话的开头\n",
    "                    # 即初始状态\n",
    "                    self.pi[self.tag2id[cut_tag]] += 1\n",
    "                    continue\n",
    "                pre_char, pre_tag = lines[i-1][0],lines[i-1][2:-1]\n",
    "                self.A[self.tag2id[pre_tag]][self.tag2id[cut_tag]] += 1\n",
    "                \n",
    "        print('参数统计结果(A,PI)')\n",
    "        print(f'A:{self.A}')\n",
    "        print(f'PI:{self.pi}')\n",
    "                \n",
    "                \n",
    "        \n",
    "        # 为矩阵中所有是0的元素赋值为epsilon\n",
    "        self.pi[self.pi == 0] = self.epsilon\n",
    "        # 防止数据下溢,对数据进行对数归一化\n",
    "        self.pi = np.log(self.pi) - np.log(np.sum(self.pi))\n",
    "        self.A[self.A == 0] = self.epsilon\n",
    "        # axis=1将每一行的元素相加，keepdims=True保持其二维性\n",
    "        self.A = np.log(self.A) - np.log(np.sum(self.A, axis=1, keepdims=True))\n",
    "        self.B[self.B == 0] = self.epsilon\n",
    "        self.B = np.log(self.B) - np.log(np.sum(self.B, axis=1, keepdims=True))\n",
    "        \n",
    "        print('训练参数结果(A,B,PI)')\n",
    "        print(f'A:{self.A}')\n",
    "        print(f'B:{self.B}')\n",
    "        print(f'PI:{self.pi}')\n",
    "        print('训练完毕！')\n",
    "        \n",
    "        self.save_Param(savedir)\n",
    "        \n",
    "    def save_Param(self,savedir):\n",
    "        if savedir==None:\n",
    "            savedir='param/BIO/method2/'\n",
    "        np.savetxt(f'{savedir}A.csv',self.A,delimiter=',')\n",
    "        np.savetxt(f'{savedir}B.csv',self.B,delimiter=',')\n",
    "        np.savetxt(f'{savedir}PI.csv',self.pi,delimiter=',')\n",
    "        print(f'训练参数已保存在 {savedir}A.csv')\n",
    "        print()\n",
    "    \n",
    "    def load_Param(self,loaddir='param/BIO/method2/'):\n",
    "        self.A=np.genfromtxt(f'{loaddir}A.csv',delimiter=',')\n",
    "        self.B=np.genfromtxt(f'{loaddir}B.csv',delimiter=',')\n",
    "        self.pi=np.genfromtxt(f'{loaddir}PI.csv',delimiter=',')\n",
    "        print(f'训练参数(A,B,PI)已从 {loaddir}A.csv 中读取成功')\n",
    "        print()\n",
    "    \n",
    "    \n",
    "    def viterbi(self, Obs):\n",
    "        '''\n",
    "        函数功能：使用viterbi算法进行解码\n",
    "        :param Obs: 要解码的文本字符串\n",
    "        :return: 最可能的隐状态路径\n",
    "        '''\n",
    "        # 获得观测序列的文本长度\n",
    "        T = len(Obs)\n",
    "        # T*N\n",
    "        delta = np.zeros((T, self.num_tag))\n",
    "        # T*N\n",
    "        psi = np.zeros((T, self.num_tag))\n",
    "        # ord是python内置函数\n",
    "        # ord(c)返回字符c对应的十进制整数\n",
    "        # 初始化\n",
    "        delta[0] = self.pi[:] + self.B[:, ord(Obs[0])]\n",
    "        # range（）左闭右开\n",
    "        for i in range(1, T):\n",
    "            # arr.reshape(4,-1) 将arr变成4行的格式，列数自动计算的(c=4, d=16/4=4)\n",
    "            temp = delta[i - 1].reshape(self.num_tag, -1) + self.A\n",
    "            # 按列取最大值\n",
    "            delta[i] = np.max(temp, axis=0)\n",
    "            # 得到delta值\n",
    "            delta[i] = delta[i, :] + self.B[:, ord(Obs[i])]\n",
    "            # 取出元素最大值对应的索引\n",
    "            psi[i] = np.argmax(temp, axis=0)\n",
    "        # 最优路径回溯\n",
    "        path = np.zeros(T)\n",
    "        path[T - 1] = np.argmax(delta[T - 1])\n",
    "        for i in range(T - 2, -1, -1):\n",
    "            path[i] = int(psi[i + 1][int(path[i + 1])])\n",
    "        return path\n",
    "\n",
    "    def predict(self, Obs):\n",
    "        '''\n",
    "        函数功能：对文本进行命名实体识别\n",
    "        :param Obs: 要识别的文本\n",
    "        :return: 无返回\n",
    "        '''\n",
    "        T = len(Obs)\n",
    "        path = self.viterbi(Obs)\n",
    "        for i in range(T):\n",
    "            print(Obs[i] + self.id2tag[path[i]] + '_|', end='')\n",
    "        print()\n",
    "        print()\n",
    "\n"
   ]
  },
  {
   "cell_type": "code",
   "execution_count": 3,
   "id": "f3891eb0",
   "metadata": {},
   "outputs": [],
   "source": [
    "model = HMM_BIO_method2()"
   ]
  },
  {
   "cell_type": "code",
   "execution_count": 4,
   "id": "7dd1f815",
   "metadata": {},
   "outputs": [
    {
     "name": "stdout",
     "output_type": "stream",
     "text": [
      "开始训练数据：\n"
     ]
    },
    {
     "name": "stderr",
     "output_type": "stream",
     "text": [
      "100%|██████████| 1015/1015 [00:00<00:00, 337820.87it/s]"
     ]
    },
    {
     "name": "stdout",
     "output_type": "stream",
     "text": [
      "参数统计结果(A,PI)\n",
      "A:[[  0.  17.   0.]\n",
      " [  0. 122.  10.]\n",
      " [ 10.   0. 664.]]\n",
      "PI:[ 7.  0. 88.]\n",
      "训练参数结果(A,B,PI)\n",
      "A:[[-2.33091723e+02  0.00000000e+00 -2.33091723e+02]\n",
      " [-2.35141311e+02 -7.87808779e-02 -2.58021683e+00]\n",
      " [-4.21064502e+00 -2.36771739e+02 -1.49479614e-02]]\n",
      "B:[[-233.09172264 -233.09172264 -233.09172264 ... -233.09172264\n",
      "  -233.09172264 -233.09172264]\n",
      " [-235.19298323 -235.19298323 -235.19298323 ... -235.19298323\n",
      "  -235.19298323 -235.19298323]\n",
      " [-236.89445586 -236.89445586 -236.89445586 ... -236.89445586\n",
      "  -236.89445586 -236.89445586]]\n",
      "PI:[-2.60796674e+00 -2.34812386e+02 -7.65400771e-02]\n",
      "训练完毕！\n",
      "训练参数已保存在 param/BIO/method2/A.csv\n",
      "\n"
     ]
    },
    {
     "name": "stderr",
     "output_type": "stream",
     "text": [
      "\n"
     ]
    }
   ],
   "source": [
    "model.train('corpus/corpus_1.txt')"
   ]
  },
  {
   "cell_type": "code",
   "execution_count": 5,
   "id": "617ea022",
   "metadata": {},
   "outputs": [
    {
     "name": "stdout",
     "output_type": "stream",
     "text": [
      "刘O_|晓O_|明B-ORG_|，I-ORG_|国I-ORG_|籍I-ORG_|中I-ORG_|国I-ORG_|，I-ORG_|目O_|前B-ORG_|任I-ORG_|职I-ORG_|于I-ORG_|中I-ORG_|央O_|广B-ORG_|播I-ORG_|电I-ORG_|视I-ORG_|台I-ORG_|\n",
      "\n"
     ]
    }
   ],
   "source": [
    "# 识别人名、地名、组织机构名\n",
    "s = '刘晓明，国籍中国，目前任职于中央广播电视台'\n",
    "model.predict(s)"
   ]
  },
  {
   "cell_type": "code",
   "execution_count": 6,
   "id": "37f404a5",
   "metadata": {},
   "outputs": [
    {
     "name": "stdout",
     "output_type": "stream",
     "text": [
      "龙B-ORG_|川I-ORG_|县I-ORG_|博I-ORG_|物I-ORG_|馆I-ORG_|馆I-ORG_|藏O_|文O_|物O_|\n",
      "\n",
      "林B-ORG_|徽I-ORG_|因I-ORG_|什I-ORG_|么I-ORG_|理I-ORG_|由I-ORG_|拒I-ORG_|绝I-ORG_|了I-ORG_|徐I-ORG_|志O_|摩O_|而O_|选O_|择B-ORG_|梁I-ORG_|思I-ORG_|成O_|变B-ORG_|为I-ORG_|终I-ORG_|身I-ORG_|伴I-ORG_|侣I-ORG_|?I-ORG_|谢I-ORG_|娜I-ORG_|为I-ORG_|李I-ORG_|浩I-ORG_|菲I-ORG_|澄I-ORG_|清I-ORG_|网I-ORG_|络I-ORG_|谣I-ORG_|言I-ORG_|，I-ORG_|之O_|后O_|她O_|的O_|两O_|个O_|行O_|为O_|给O_|自O_|己O_|加O_|分O_|\n",
      "\n",
      "王B-ORG_|心I-ORG_|雷I-ORG_|编O_|写O_|了O_|一O_|个O_|代O_|码O_|\n",
      "\n",
      "王O_|康B-ORG_|在I-ORG_|哈I-ORG_|尔I-ORG_|滨I-ORG_|出O_|门B-ORG_|打I-ORG_|电I-ORG_|动I-ORG_|被I-ORG_|张I-ORG_|舒I-ORG_|帆I-ORG_|当I-ORG_|场I-ORG_|逮I-ORG_|捕I-ORG_|\n",
      "\n",
      "北B-ORG_|京I-ORG_|抖I-ORG_|音I-ORG_|信O_|息O_|服O_|务B-ORG_|有I-ORG_|限I-ORG_|公I-ORG_|司I-ORG_|今I-ORG_|天I-ORG_|出O_|台O_|了O_|一O_|个O_|新O_|的O_|政B-ORG_|策I-ORG_|\n",
      "\n",
      "中O_|国B-ORG_|招I-ORG_|标I-ORG_|网I-ORG_|发I-ORG_|布O_|了O_|一O_|个O_|新B-ORG_|的I-ORG_|招I-ORG_|标I-ORG_|\n",
      "\n",
      "我B-ORG_|真I-ORG_|的O_|好B-ORG_|饿I-ORG_|\n",
      "\n",
      "中O_|标O_|人O_|:O_|遂B-ORG_|宁I-ORG_|高I-ORG_|新I-ORG_|区O_|蜜O_|感O_|内O_|衣B-ORG_|店I-ORG_|\n",
      "\n",
      "中O_|国B-ORG_|是I-ORG_|个O_|好O_|地O_|方O_|\n",
      "\n",
      "宁B-ORG_|夏I-ORG_|最I-ORG_|高I-ORG_|气I-ORG_|温I-ORG_|2O_|0O_|度O_|\n",
      "\n",
      "恭B-ORG_|喜I-ORG_|安O_|居O_|区O_|安B-ORG_|居I-ORG_|镇I-ORG_|有I-ORG_|家I-ORG_|超I-ORG_|市I-ORG_|昨I-ORG_|天I-ORG_|开I-ORG_|业I-ORG_|了I-ORG_|\n",
      "\n",
      "家O_|乐B-ORG_|福I-ORG_|是I-ORG_|个O_|好O_|地O_|方O_|\n",
      "\n",
      "家O_|乐B-ORG_|福I-ORG_|\n",
      "\n",
      "家O_|乐B-ORG_|福I-ORG_|超I-ORG_|市I-ORG_|\n",
      "\n"
     ]
    }
   ],
   "source": [
    "#进行预测(corpus_1_others_method2)\n",
    "sentences=['龙川县博物馆馆藏文物','林徽因什么理由拒绝了徐志摩而选择梁思成变为终身伴侣?谢娜为李浩菲澄清网络谣言，之后她的两个行为给自己加分','王心雷编写了一个代码',\n",
    "      '王康在哈尔滨出门打电动被张舒帆当场逮捕','北京抖音信息服务有限公司今天出台了一个新的政策','中国招标网发布了一个新的招标',\n",
    "       '我真的好饿','中标人:遂宁高新区蜜感内衣店','中国是个好地方','宁夏最高气温20度','恭喜安居区安居镇有家超市昨天开业了',\n",
    "           '家乐福是个好地方','家乐福','家乐福超市']\n",
    "for sentence in sentences:\n",
    "    model.predict(sentence)\n",
    "    "
   ]
  }
 ],
 "metadata": {
  "kernelspec": {
   "display_name": "Python 3 (ipykernel)",
   "language": "python",
   "name": "python3"
  },
  "language_info": {
   "codemirror_mode": {
    "name": "ipython",
    "version": 3
   },
   "file_extension": ".py",
   "mimetype": "text/x-python",
   "name": "python",
   "nbconvert_exporter": "python",
   "pygments_lexer": "ipython3",
   "version": "3.8.10"
  }
 },
 "nbformat": 4,
 "nbformat_minor": 5
}
