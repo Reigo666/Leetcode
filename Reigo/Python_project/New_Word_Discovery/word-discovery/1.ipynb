{
 "cells": [
  {
   "cell_type": "code",
   "execution_count": 5,
   "metadata": {},
   "outputs": [],
   "source": [
    "import codecs\n",
    "import glob\n",
    "import re"
   ]
  },
  {
   "cell_type": "code",
   "execution_count": 13,
   "metadata": {},
   "outputs": [
    {
     "name": "stdout",
     "output_type": "stream",
     "text": [
      "你好,china 8 <class 'str'>\n",
      "b'\\xc4\\xe3\\xba\\xc3,china' 10 <class 'bytes'>\n",
      "���,china\n"
     ]
    }
   ],
   "source": [
    "s='你好,china'\n",
    "print(s,len(s),type(s))\n",
    "a=codecs.encode(s,encoding='gbk',errors='replace')\n",
    "print(a,len(a),type(a))\n",
    "\n",
    "b=codecs.decode(a,encoding='utf-8',errors='replace')\n",
    "print(b)"
   ]
  },
  {
   "cell_type": "code",
   "execution_count": 25,
   "metadata": {},
   "outputs": [
    {
     "name": "stdout",
     "output_type": "stream",
     "text": [
      "['test\\\\1.txt', 'test\\\\2.txt']\n"
     ]
    }
   ],
   "source": [
    "print(glob.glob(r'test/*.txt'))"
   ]
  },
  {
   "cell_type": "code",
   "execution_count": 41,
   "metadata": {},
   "outputs": [
    {
     "name": "stdout",
     "output_type": "stream",
     "text": [
      "['aba', 'aaa']\n"
     ]
    }
   ],
   "source": [
    "res=re.findall('a.a','abacaaaa')\n",
    "print(res)\n"
   ]
  },
  {
   "cell_type": "code",
   "execution_count": 5,
   "metadata": {},
   "outputs": [
    {
     "ename": "TypeError",
     "evalue": "'generator' object is not subscriptable",
     "output_type": "error",
     "traceback": [
      "\u001b[1;31m---------------------------------------------------------------------------\u001b[0m",
      "\u001b[1;31mTypeError\u001b[0m                                 Traceback (most recent call last)",
      "\u001b[1;32m~\\AppData\\Local\\Temp/ipykernel_13464/700471731.py\u001b[0m in \u001b[0;36m<module>\u001b[1;34m\u001b[0m\n\u001b[0;32m      8\u001b[0m \u001b[0mdata_list\u001b[0m\u001b[1;33m=\u001b[0m\u001b[0mget_random_num\u001b[0m\u001b[1;33m(\u001b[0m\u001b[1;36m2\u001b[0m\u001b[1;33m)\u001b[0m\u001b[1;33m\u001b[0m\u001b[1;33m\u001b[0m\u001b[0m\n\u001b[0;32m      9\u001b[0m \u001b[1;31m#使用几个取几个\u001b[0m\u001b[1;33m\u001b[0m\u001b[1;33m\u001b[0m\u001b[1;33m\u001b[0m\u001b[0m\n\u001b[1;32m---> 10\u001b[1;33m \u001b[0mprint\u001b[0m\u001b[1;33m(\u001b[0m\u001b[0mdata_list\u001b[0m\u001b[1;33m[\u001b[0m\u001b[1;36m0\u001b[0m\u001b[1;33m]\u001b[0m\u001b[1;33m)\u001b[0m\u001b[1;33m\u001b[0m\u001b[1;33m\u001b[0m\u001b[0m\n\u001b[0m\u001b[0;32m     11\u001b[0m \u001b[1;33m\u001b[0m\u001b[0m\n",
      "\u001b[1;31mTypeError\u001b[0m: 'generator' object is not subscriptable"
     ]
    }
   ],
   "source": [
    "import random\n",
    "def get_random_num(max_count):\n",
    "    counter=0\n",
    "    while counter<max_count:\n",
    "        #获取4位随机验证码\n",
    "        yield random.randint(1000,9999)\n",
    "        counter+=1\n",
    "data_list=get_random_num(2)\n",
    "#使用几个取几个\n",
    "print(data_list[0])\n",
    "\n"
   ]
  },
  {
   "cell_type": "code",
   "execution_count": 2,
   "metadata": {},
   "outputs": [
    {
     "name": "stdout",
     "output_type": "stream",
     "text": [
      "<generator object func at 0x000002B1AB210D60>\n",
      "1\n",
      "2\n",
      "1\n",
      "2\n"
     ]
    }
   ],
   "source": [
    "def func():\n",
    "    #print(1)\n",
    "    for i in range(2):\n",
    "        yield 1\n",
    "        yield 2\n",
    "    #\n",
    "data=func()\n",
    "print(data)\n",
    "for i in data:\n",
    "    print(i)"
   ]
  },
  {
   "cell_type": "code",
   "execution_count": 29,
   "metadata": {},
   "outputs": [
    {
     "name": "stdout",
     "output_type": "stream",
     "text": [
      "中 国　\n",
      "111\n",
      "12288\n",
      "20013\n",
      "aaa\n"
     ]
    }
   ],
   "source": [
    "print(u'中 国　')\n",
    "print(\"111\")\n",
    "print(ord('　'))\n",
    "print(ord('中'))\n",
    "a='  aaa　  　'\n",
    "a=a.strip()\n",
    "print(a)"
   ]
  },
  {
   "cell_type": "code",
   "execution_count": 34,
   "metadata": {},
   "outputs": [
    {
     "name": "stdout",
     "output_type": "stream",
     "text": [
      "['王广善：别墅产品b是社会和经济发展的标志(图)\\n', '\\u3000\\u3000时间：\\n', '\\u3000\\u30002009年4月29日14：00\\n', '\\u3000\\u3000地点：\\n', '\\u3000\\u3000理想国际大厦新浪乐居嘉宾聊天室\\n', '\\u3000\\u3000嘉宾：\\n', '\\u3000\\u3000鲁能地产格拉斯小镇总经理王广善'] <class 'list'>\n"
     ]
    }
   ],
   "source": [
    "with open('corpus/short1/1.txt',mode='r',encoding='utf-8') as fr:\n",
    "    a=fr.readlines()\n",
    "    print(a,type(a))\n"
   ]
  },
  {
   "cell_type": "code",
   "execution_count": 31,
   "metadata": {},
   "outputs": [
    {
     "name": "stdout",
     "output_type": "stream",
     "text": [
      "王广善\n",
      "别墅产品b是\n",
      "\n"
     ]
    }
   ],
   "source": [
    "d='王广善：别墅产品b是\\n'\n",
    "s=re.sub(u'[^\\u4e00-\\u9fa50-9a-zA-Z ]+', '\\n', d)\n",
    "print(s)"
   ]
  },
  {
   "cell_type": "code",
   "execution_count": 43,
   "metadata": {},
   "outputs": [
    {
     "name": "stdout",
     "output_type": "stream",
     "text": [
      "12345\n"
     ]
    }
   ],
   "source": [
    "s='1  2  3 45'\n",
    "s=re.sub('\\s','',s)\n",
    "print(s)"
   ]
  },
  {
   "cell_type": "code",
   "execution_count": 3,
   "metadata": {},
   "outputs": [
    {
     "name": "stdout",
     "output_type": "stream",
     "text": [
      "0\n",
      "1\n",
      "2\n",
      "3\n",
      "4\n",
      "5\n"
     ]
    }
   ],
   "source": [
    "def generator_a():\n",
    "    for i in range(6):\n",
    "        yield i\n",
    "\n",
    "d=generator_a()\n",
    "for i in d:\n",
    "    print(i)"
   ]
  },
  {
   "cell_type": "code",
   "execution_count": 17,
   "metadata": {},
   "outputs": [
    {
     "name": "stdout",
     "output_type": "stream",
     "text": [
      "王广善：\n",
      "别墅产品b是\n",
      "\n"
     ]
    }
   ],
   "source": [
    "dd='王广善：\\n别 墅  产品b是\\n'\n",
    "ddd=re.sub(u' ', '', dd)\n",
    "print(ddd)"
   ]
  },
  {
   "cell_type": "code",
   "execution_count": null,
   "metadata": {},
   "outputs": [],
   "source": []
  }
 ],
 "metadata": {
  "kernelspec": {
   "display_name": "Python 3",
   "language": "python",
   "name": "python3"
  },
  "language_info": {
   "codemirror_mode": {
    "name": "ipython",
    "version": 3
   },
   "file_extension": ".py",
   "mimetype": "text/x-python",
   "name": "python",
   "nbconvert_exporter": "python",
   "pygments_lexer": "ipython3",
   "version": "3.8.10 (tags/v3.8.10:3d8993a, May  3 2021, 11:48:03) [MSC v.1928 64 bit (AMD64)]"
  },
  "orig_nbformat": 4,
  "vscode": {
   "interpreter": {
    "hash": "046e79a65ec89518396a274026599ddf48e2ffaf1fe6744c6fe1de54e9d05a28"
   }
  }
 },
 "nbformat": 4,
 "nbformat_minor": 2
}
